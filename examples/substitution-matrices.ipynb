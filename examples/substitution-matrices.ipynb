{
 "cells": [
  {
   "cell_type": "code",
   "execution_count": 1,
   "metadata": {
    "collapsed": false
   },
   "outputs": [
    {
     "ename": "ImportError",
     "evalue": "No module named 'protein'",
     "output_type": "error",
     "traceback": [
      "\u001b[0;31m---------------------------------------------------------------------------\u001b[0m",
      "\u001b[0;31mImportError\u001b[0m                               Traceback (most recent call last)",
      "\u001b[0;32m<ipython-input-1-e04d5de57aa4>\u001b[0m in \u001b[0;36m<module>\u001b[0;34m()\u001b[0m\n\u001b[1;32m      4\u001b[0m \u001b[0mpath\u001b[0m\u001b[1;33m.\u001b[0m\u001b[0mappend\u001b[0m\u001b[1;33m(\u001b[0m\u001b[0mnormpath\u001b[0m\u001b[1;33m(\u001b[0m\u001b[1;34m\"..\"\u001b[0m\u001b[1;33m)\u001b[0m\u001b[1;33m)\u001b[0m\u001b[1;33m\u001b[0m\u001b[0m\n\u001b[1;32m      5\u001b[0m \u001b[1;33m\u001b[0m\u001b[0m\n\u001b[0;32m----> 6\u001b[0;31m \u001b[1;32mfrom\u001b[0m \u001b[0mprotein\u001b[0m \u001b[1;32mimport\u001b[0m \u001b[0mloadFasta\u001b[0m\u001b[1;33m\u001b[0m\u001b[0m\n\u001b[0m\u001b[1;32m      7\u001b[0m \u001b[1;32mfrom\u001b[0m \u001b[0mscore\u001b[0m \u001b[1;32mimport\u001b[0m \u001b[0mScoreMatrix\u001b[0m\u001b[1;33m,\u001b[0m \u001b[0mblosumFromFasta\u001b[0m\u001b[1;33m\u001b[0m\u001b[0m\n\u001b[1;32m      8\u001b[0m \u001b[1;32mfrom\u001b[0m \u001b[0malign\u001b[0m \u001b[1;32mimport\u001b[0m \u001b[0mAlign\u001b[0m\u001b[1;33m\u001b[0m\u001b[0m\n",
      "\u001b[0;31mImportError\u001b[0m: No module named 'protein'"
     ]
    }
   ],
   "source": [
    "from sys import path\n",
    "from os.path import join as joinpath\n",
    "from os.path import normpath\n",
    "path.append(normpath(\"..\"))\n",
    "\n",
    "from protein import loadFasta\n",
    "from score import ScoreMatrix, blosumFromFasta\n",
    "from align import Align"
   ]
  },
  {
   "cell_type": "markdown",
   "metadata": {},
   "source": [
    "# Substitution matrices\n",
    "\n",
    "In order to produce sequence alignments we've made extensive use of Soring systems in order to achieve sequence alignment. The scores assigned to each amino acid pair were not understood, we simply used standard ones. The scoring systems we used are called **substitution matrices** as they provide scores for each possible amino acid substitution. When comparing two sequences, one of the following is true:\n",
    "* **Evolutionary model**: sequences B and A do not have a common origin. Therefore B can be seen as completely random when compared to A. This does not mean B has to be completely different than A : amino acids $a$ and $b$ could still align by chance. We can calculate the probability of that happening by looking at the amino acid frequencies $p_a$ and $p_b$ in the population.\n",
    "$$Prob(a, b) = p_a \\cdot p_b $$\n",
    "\n",
    "* **Random model**: sequences B and A have a common origin. Therefore B is not random, and a good alignment between A and B will provide us with the result of each of their mutations. The probability of amino acids $a$ and $b$ being aligned depends on the likelihood of substitutions from $a$ to $b$ or $b$ to $a$.\n",
    "$$Prob(a, b) = q_{a,b}$$\n",
    "\n",
    "The goal of this section is to be able to tell these cases apart. In order to do that, we'll construct substitution matrices, assigning to each amino acid pair a score equal to the **log-odds ratio** $\\frac{q_{a,b}}{p_a \\cdot p_b}$.\n",
    "\n",
    "## BLOCKS\n",
    "\n",
    "`BLOCKS` is a database of amino acid sequences. It was used to construct the standard BLOSUM matrices. We used it to retrieve two families of sequences : the SH3 and PDZ domains. These come in multiple \"blocks\" of gapless aligned sequences of the same size. We quickly formatted these informations into .fasta files compatible with our previous project. With them, we'll be able to construct our own BLOSUM matrices specific to these domains.\n",
    "\n",
    "## BLOSUM\n",
    "\n",
    "`BLOSUM` or BLOcks SUbstitution Matrix uses the well-conserved (gapless and aligned) sequences found in `BLOCKS` to determine the numerical values of $p_a$, $p_b$ and $q_{a,b}$, based on the required identity between them. For example, `BLOSUM 62` is the `BLOSUM` that was calculated for a required identity of 62%. Here's an overview of the algorithm for calculating the log-odds ratios with an identity of $X$% :\n",
    "\n",
    "* Separate all sequences into $t$ groups $G_{i}$, such that all sequences $s_{j} \\in G_{i}$ in each group have at least $X$ percent identity with some other sequence of the same group. We assume the sequences have she same lenght $n$.\n",
    "\n",
    "* Calculate the weighted frequencies of all amino acid pairs, where $Count(G_{i_k}, a)$ is the number of occurrences of amino acid $a$ in column $k$ of sequences from $G_i$, $Size(G_i)$ is the number of sequences in group $G_i$ :\n",
    "\n",
    "$$f_{a,b} = \\sum_{k=1}^{n}{\\sum_{i=1}^{t-1}{\\sum_{j=i+1}^{t}{ \\frac{Count(G_{i_k},a)}{Size(G_i)} \\cdot \\frac{Count(G_{j_k},b)}{Size(G_j)} + \\frac{Count(G_{i_k},b)}{Size(G_i)} \\cdot \\frac{Count(G_{j_k},a)}{Size(G_j)}}}}$$\n",
    "\n",
    "* Calculate the probability of occurrences $a, b$ in the evolutionary model as the frequence of pairs $(a,b)$ divided by the frequence of all possible pairs\n",
    "$$q_{a,b} = \\frac{f_{a,b}}{\\sum_{1\\leq a \\leq b}{f_{a,b}}}$$\n",
    "\n",
    "* Calculate the probability of occurrences $a, b$ in the random model, based on the observed frequencies of each single amino acid\n",
    "$$\n",
    "e_{a,b} =\n",
    "\\left\\{\n",
    "    \\begin{array}{ll}\n",
    "      p_a^2 \\quad \\textrm{if} \\quad a = b\\\\\n",
    "      2 p_a p_b \\quad \\textrm{if} \\quad a \\neq b\n",
    "    \\end{array}\n",
    "\\right.\n",
    "\\quad\n",
    "\\textrm{where}\n",
    "\\quad\n",
    "p_a = q_{a,a} + \\frac{1}{2}\\sum_{a \\neq b}{q_{a,b}}\n",
    "$$\n",
    "\n",
    "* Compute the log-odds ratio of all probabilities for the evolutionary and random models. This gives us a negative value (a bad score) if the random model is more likely, and a positive value the other way around. This value is the one used in BLOSUM (except we round it to the nearest integer).\n",
    "$$s_{a,b} = 2 \\; \\log_{2}{\\frac{q_{a,b}}{e_{a,b}}}$$"
   ]
  },
  {
   "cell_type": "code",
   "execution_count": null,
   "metadata": {
    "collapsed": false,
    "scrolled": false
   },
   "outputs": [],
   "source": [
    "sh3Files = (\"SH3-A.fasta\", \"SH3-B.fasta\", \"SH3-C.fasta\", \"SH3-D.fasta\")\n",
    "sh3Paths = [joinpath(\"..\", \"resources\", \"fasta\", filename) for filename in sh3Files]\n",
    "print(\"SH3 Family\")\n",
    "blosum40sh3 = blosumFromFasta(40, *sh3Paths)\n",
    "print(blosum40sh3)\n",
    "blosum70sh3 = blosumFromFasta(70, *sh3Paths)\n",
    "print(blosum70sh3)\n",
    "\n",
    "print(\"PDZ Family\")\n",
    "pdzFiles = (\"PDZ-A.fasta\", \"PDZ-B.fasta\")\n",
    "pdzPaths = [joinpath(\"..\", \"resources\", \"fasta\", filename) for filename in pdzFiles]\n",
    "blosum40pdz = blosumFromFasta(40, *pdzPaths)\n",
    "print(blosum40pdz)\n",
    "blosum70pdz = blosumFromFasta(70, *pdzPaths)\n",
    "print(blosum70pdz)"
   ]
  },
  {
   "cell_type": "markdown",
   "metadata": {},
   "source": [
    "As a reminder, here is BLOSUM 62 :"
   ]
  },
  {
   "cell_type": "code",
   "execution_count": null,
   "metadata": {
    "collapsed": false
   },
   "outputs": [],
   "source": [
    "blosum62 = ScoreMatrix(normpath(\"../resources/blosum/blosum62.iij\"), \"BLOSUM 62\")\n",
    "print(blosum62)"
   ]
  },
  {
   "cell_type": "markdown",
   "metadata": {},
   "source": [
    "Values are very different, which is normal since this matrix was built for a small, specific subset of the BLOCKS database and with a different required identity. Diagonal values also differ significantly. New substitutions are allowed (like between P and A), other substitutions no longer are (like all substitutions to and from Z, which is not present in the SH3 or PDZ domains).\n",
    "\n",
    "Let's try to do some alignments with these BLOSUM matrices :"
   ]
  },
  {
   "cell_type": "code",
   "execution_count": null,
   "metadata": {
    "collapsed": false
   },
   "outputs": [],
   "source": [
    "a = Align(blosum62)\n",
    "b = Align(blosum40pdz)\n",
    "c = Align(blosum70pdz)\n",
    "sequences = [seq for seq in loadFasta(normpath(\"../resources/fasta/PDZ-sequences.fasta\"))]\n",
    "\n",
    "for alignM in (a,b,c):\n",
    "    for align in a.globalAlign(sequences[0], sequences[1], -12, -2, False):\n",
    "        align.condensed = True\n",
    "        print(align)\n",
    "        break"
   ]
  }
 ],
 "metadata": {
  "celltoolbar": "Raw Cell Format",
  "kernelspec": {
   "display_name": "Python 3",
   "language": "python",
   "name": "python3"
  },
  "language_info": {
   "codemirror_mode": {
    "name": "ipython",
    "version": 3
   },
   "file_extension": ".py",
   "mimetype": "text/x-python",
   "name": "python",
   "nbconvert_exporter": "python",
   "pygments_lexer": "ipython3",
   "version": "3.5.2"
  }
 },
 "nbformat": 4,
 "nbformat_minor": 1
}
